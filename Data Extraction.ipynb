{
 "cells": [
  {
   "cell_type": "code",
   "execution_count": 1,
   "id": "f97d3923",
   "metadata": {},
   "outputs": [],
   "source": [
    "import pandas as pd\n",
    "import random"
   ]
  },
  {
   "cell_type": "code",
   "execution_count": 2,
   "id": "1ca1cdb2",
   "metadata": {},
   "outputs": [],
   "source": [
    "def pull_date(url):\n",
    "    # Pull the table from the page\n",
    "    table = pd.DataFrame(pd.read_html(url)[0])\n",
    "    \n",
    "    # Dropping and renaming columns, replacing null values with 0\n",
    "    table = table.drop(columns=[\"Rk\", \"From\", \"To\", \"H.1\", \"HR.1\", \"BB.1\"]).rename(columns={\"Yrs\": \"Years\", \"G\": \"G_bat\", \"G.1\": \"G_pit\"}).fillna(0)\n",
    "    \n",
    "    # Changing data types from float to integer\n",
    "    table = table.astype({\"R\": \"int\", \"H\": \"int\", \"HR\": \"int\", \"RBI\": \"int\", \"SB\": \"int\", \"BB\": \"int\", \"OPS+\": \"int\", \"W\": \"int\", \"G_pit\": \"int\", \"GS\": \"int\", \"SV\": \"int\", \"SO\": \"int\"})\n",
    "    \n",
    "    # Converting innings pitched from .1 .2 to .33 .67\n",
    "    table[\"IP\"] = table[\"IP\"].astype(int) + table[\"IP\"] * 10 % 5 / 3\n",
    "    \n",
    "    return table"
   ]
  },
  {
   "cell_type": "code",
   "execution_count": 3,
   "id": "7e560935",
   "metadata": {},
   "outputs": [],
   "source": [
    "month_lengths = [31, 29, 31, 30, 31, 30, 31, 31, 30, 31, 30, 31]\n",
    "month_folders = [\"January\", \"February\", \"March\", \"April\", \"May\", \"June\", \"July\", \"August\", \"September\", \"October\", \"November\", \"December\"]\n",
    "\n",
    "\n",
    "for i in range(12):\n",
    "    folder = month_folders[i]\n",
    "    for j in range(month_lengths[i]):     \n",
    "        day = pull_date(f\"https://www.baseball-reference.com/friv/birthdays.cgi?month={i+1}&day={j+1}\")\n",
    "        day.to_csv(f\"Data/{folder}/{folder}_{str(j+1).zfill(2)}.csv\", index=False)\n",
    "        \n",
    "        # Keep requests under 20 per minute (https://www.sports-reference.com/429.html)\n",
    "        time.sleep(random.uniform(3.5, 5))"
   ]
  }
 ],
 "metadata": {
  "kernelspec": {
   "display_name": "Python 3 (ipykernel)",
   "language": "python",
   "name": "python3"
  },
  "language_info": {
   "codemirror_mode": {
    "name": "ipython",
    "version": 3
   },
   "file_extension": ".py",
   "mimetype": "text/x-python",
   "name": "python",
   "nbconvert_exporter": "python",
   "pygments_lexer": "ipython3",
   "version": "3.9.18"
  }
 },
 "nbformat": 4,
 "nbformat_minor": 5
}
